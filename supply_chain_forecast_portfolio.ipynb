{
 "cells": [
  {
   "cell_type": "markdown",
   "id": "4ad2ec6f",
   "metadata": {},
   "source": [
    "# Supply Chain & Inventory Forecasting with AI Advisor\n",
    "\n",
    "Muh Amri Sidiq\n",
    "\n",
    "This notebook demonstrates a complete workflow for demand forecasting and AI-driven order recommendations.\n",
    "The system combines:\n",
    "- Data ingestion & preprocessing\n",
    "- Three forecasting models (Prophet, XGBoost, Hybrid)\n",
    "- Business-driven inputs (promo boost, storage cost, selling price)\n",
    "- AI-powered advisor (RAG) for supplier & contract analysis\n",
    "- Automated PDF report generation (with charts)\n",
    "\n",
    "The final version is deployed as a Streamlit app for interactive use, but this notebook shows the full pipeline step by step."
   ]
  },
  {
   "cell_type": "markdown",
   "id": "880cd465",
   "metadata": {},
   "source": [
    "## Import Libraries"
   ]
  },
  {
   "cell_type": "code",
   "execution_count": null,
   "id": "cc24a908",
   "metadata": {},
   "outputs": [],
   "source": [
    "import pandas as pd\n",
    "import numpy as np\n",
    "import matplotlib.pyplot as plt\n",
    "from prophet import Prophet\n",
    "import xgboost as xgb\n",
    "from sklearn.metrics import mean_absolute_percentage_error\n",
    "from fpdf import FPDF\n",
    "from io import BytesIO\n",
    "\n",
    "# For AI Advisor\n",
    "from PyPDF2 import PdfReader\n",
    "from langchain.text_splitter import RecursiveCharacterTextSplitter\n",
    "from langchain.embeddings import OpenAIEmbeddings\n",
    "from langchain.vectorstores import FAISS\n",
    "from langchain.llms import OpenAI\n",
    "from langchain.chains import RetrievalQA"
   ]
  },
  {
   "cell_type": "markdown",
   "id": "c03bd9f4",
   "metadata": {},
   "source": [
    "## Load & Explore Data\n",
    "\n",
    "We'll load historical sales data and inspect the structure."
   ]
  },
  {
   "cell_type": "code",
   "execution_count": null,
   "id": "ffa169bd",
   "metadata": {},
   "outputs": [],
   "source": [
    "# Example CSV structure: date, family, sales\n",
    "df = pd.read_csv('sales_data.csv', parse_dates=['date'])\n",
    "df.head()"
   ]
  },
  {
   "cell_type": "markdown",
   "id": "d047cd4c",
   "metadata": {},
   "source": [
    "## Forecasting Models\n",
    "\n",
    "We'll use three approaches:\n",
    "- Prophet (trend + seasonality)\n",
    "- XGBoost (time-series features)\n",
    "- Hybrid (Prophet for trend + XGBoost for residuals)\n",
    "\n",
    "Each model will be evaluated using MAPE, and the best model will be selected automatically."
   ]
  },
  {
   "cell_type": "code",
   "execution_count": null,
   "id": "3ea339ae",
   "metadata": {},
   "outputs": [],
   "source": [
    "# Prophet Forecast Function\n",
    "def run_prophet(df_item, forecast_period, use_holidays=True):\n",
    "    df_train = df_item.tail(int(forecast_period * 1.5))\n",
    "    model = Prophet(yearly_seasonality=True, weekly_seasonality=True, holidays_prior_scale=10) if use_holidays else Prophet()\n",
    "    if use_holidays:\n",
    "        model.add_country_holidays(country_name='ID')\n",
    "    model.fit(df_train)\n",
    "    future = model.make_future_dataframe(periods=forecast_period)\n",
    "    forecast = model.predict(future)\n",
    "    merged = forecast.set_index('ds')[['yhat']].join(df_item.set_index('ds')[['y']], how='left')\n",
    "    merged['y'] = merged['y'].replace(0, np.nan).fillna(method='ffill')\n",
    "    hist = merged.dropna()\n",
    "    mape = mean_absolute_percentage_error(hist['y'], hist['yhat']) * 100\n",
    "    return forecast.set_index('ds')[['yhat']], mape\n",
    "\n",
    "# XGBoost Forecast Function\n",
    "def run_xgb(df_item, forecast_period):\n",
    "    train_window = int(forecast_period * 1.5)\n",
    "    df_train = df_item.tail(train_window).copy()\n",
    "    df_train['day'] = df_train['ds'].dt.day\n",
    "    df_train['month'] = df_train['ds'].dt.month\n",
    "    df_train['dow'] = df_train['ds'].dt.dayofweek\n",
    "    df_train['lag_7'] = df_train['y'].shift(7)\n",
    "    df_train['promo'] = 0\n",
    "    df_train = df_train.dropna()\n",
    "    X = df_train[['day', 'month', 'dow', 'lag_7', 'promo']]\n",
    "    y = df_train['y']\n",
    "    split = int(len(df_train) * 0.8)\n",
    "    X_train, X_test = X[:split], X[split:]\n",
    "    y_train, y_test = y[:split], y[split:]\n",
    "    model = xgb.XGBRegressor(n_estimators=300, max_depth=5, learning_rate=0.05)\n",
    "    model.fit(X_train, y_train)\n",
    "    y_pred = model.predict(X_test)\n",
    "    mape = mean_absolute_percentage_error(y_test, y_pred) * 100\n",
    "    last_date = df_item['ds'].max()\n",
    "    forecast_dates = [last_date + pd.Timedelta(days=i+1) for i in range(forecast_period)]\n",
    "    preds, current_lag = [], df_train.iloc[-1]['lag_7']\n",
    "    for date in forecast_dates:\n",
    "        feat = [date.day, date.month, date.dayofweek, current_lag, 0]\n",
    "        pred = model.predict(pd.DataFrame([feat], columns=['day', 'month', 'dow', 'lag_7', 'promo']))[0]\n",
    "        preds.append(pred)\n",
    "        current_lag = pred\n",
    "    forecast = pd.DataFrame({'ds': forecast_dates, 'yhat': preds}).set_index('ds')\n",
    "    return forecast, mape"
   ]
  },
  {
   "cell_type": "markdown",
   "id": "0360729a",
   "metadata": {},
   "source": [
    "## Business Inputs\n",
    "\n",
    "Simulate promo impact, storage cost, and revenue gain to integrate business context into the forecast."
   ]
  },
  {
   "cell_type": "code",
   "execution_count": null,
   "id": "f5a1d2f1",
   "metadata": {},
   "outputs": [],
   "source": [
    "storage_cost_per_unit = 500\n",
    "selling_price_per_unit = 10000\n",
    "promo_boost_pct = 20\n",
    "\n",
    "avg_sales = df['sales'].mean()\n",
    "extra_sales = avg_sales * (promo_boost_pct / 100)\n",
    "storage_cost = storage_cost_per_unit * extra_sales\n",
    "revenue_gain = selling_price_per_unit * extra_sales\n",
    "\n",
    "print(f\"Extra Sales: {extra_sales:.0f} units\")\n",
    "print(f\"Extra Storage Cost: Rp {storage_cost:,.0f}\")\n",
    "print(f\"Potential Revenue Gain: Rp {revenue_gain:,.0f}\")"
   ]
  },
  {
   "cell_type": "markdown",
   "id": "73e2a28e",
   "metadata": {},
   "source": [
    "## AI Advisor (RAG)\n",
    "\n",
    "Uses PDF supplier contracts and warehouse policies to generate order recommendations."
   ]
  },
  {
   "cell_type": "code",
   "execution_count": null,
   "id": "4b6ef6c3",
   "metadata": {},
   "outputs": [],
   "source": [
    "pdf_files = ['supplier_policy.pdf']  # Example\n",
    "api_key = 'YOUR_OPENAI_API_KEY'\n",
    "texts = []\n",
    "for pdf in pdf_files:\n",
    "    reader = PdfReader(pdf)\n",
    "    for page in reader.pages:\n",
    "        texts.append(page.extract_text())\n",
    "splitter = RecursiveCharacterTextSplitter(chunk_size=500, chunk_overlap=50)\n",
    "docs = splitter.create_documents(texts)\n",
    "embeddings = OpenAIEmbeddings(openai_api_key=api_key)\n",
    "vectorstore = FAISS.from_documents(docs, embeddings)\n",
    "retriever = vectorstore.as_retriever()\n",
    "llm = OpenAI(temperature=0, openai_api_key=api_key)\n",
    "qa_chain = RetrievalQA.from_chain_type(llm=llm, retriever=retriever)\n",
    "\n",
    "prompt = \"Based on the forecast and policies, calculate optimal order quantity.\"\n",
    "recommendation = qa_chain.run(prompt)\n",
    "print(\"AI Recommendation:\", recommendation)"
   ]
  },
  {
   "cell_type": "markdown",
   "id": "16421186",
   "metadata": {},
   "source": [
    "## Export PDF Report\n",
    "\n",
    "Generates a PDF summary including forecast metrics, business impact, and AI recommendations."
   ]
  },
  {
   "cell_type": "code",
   "execution_count": null,
   "id": "e349fe59",
   "metadata": {},
   "outputs": [],
   "source": [
    "pdf = FPDF()\n",
    "pdf.add_page()\n",
    "pdf.set_font(\"Arial\", size=14)\n",
    "pdf.cell(200, 10, txt=\"Supply Chain & Inventory Report\", ln=True, align='C')\n",
    "pdf.ln(10)\n",
    "pdf.multi_cell(0, 10, txt=f\"Extra Sales: {extra_sales:.0f} units\")\n",
    "pdf.multi_cell(0, 10, txt=f\"Extra Storage Cost: Rp {storage_cost:,.0f}\")\n",
    "pdf.multi_cell(0, 10, txt=f\"Potential Revenue Gain: Rp {revenue_gain:,.0f}\")\n",
    "pdf.multi_cell(0, 10, txt=f\"AI Recommendation: {recommendation}\")\n",
    "pdf.output(\"supply_chain_report.pdf\")"
   ]
  },
  {
   "cell_type": "markdown",
   "id": "4fe3aba8",
   "metadata": {},
   "source": [
    "## Conclussion\n",
    "\n",
    "This project showcases a complete pipeline for demand forecasting and decision support in supply chain management.\n",
    "By combining three forecasting models (Prophet, XGBoost, and Hybrid), the system automatically selects the most accurate model based on MAPE.\n",
    "\n",
    "On top of forecasting, the tool integrates business impact analysis (storage cost, sales boost, revenue gain) and an AI-powered advisor that reads supplier contracts and warehouse policies to recommend optimal order quantities.\n",
    "\n",
    "The result is a single, automated workflow that supports data-driven decision-making for inventory and procurement teams.\n",
    "Future improvements could include real-time sales ingestion, multi-location optimization, and cloud deployment for scalability."
   ]
  }
 ],
 "metadata": {
  "language_info": {
   "name": "python"
  }
 },
 "nbformat": 4,
 "nbformat_minor": 5
}
